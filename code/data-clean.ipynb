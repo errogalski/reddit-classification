{
 "cells": [
  {
   "cell_type": "markdown",
   "id": "d723dd9e-1d3b-44b9-b755-252d0349ade1",
   "metadata": {},
   "source": [
    "# Data Cleaning ##"
   ]
  },
  {
   "cell_type": "markdown",
   "id": "922fb03b-ec37-48e3-af93-c05c080a60dc",
   "metadata": {},
   "source": [
    "- After looking through the subreddits, I made the decision to use title instead of the subtext to build my models off of. This is because across all the sports subreddits, the title functions as the post's content."
   ]
  },
  {
   "cell_type": "code",
   "execution_count": 27,
   "id": "0a974a0a-1fb9-4dd2-ac95-fca59b072c5f",
   "metadata": {},
   "outputs": [],
   "source": [
    "import pandas as pd"
   ]
  },
  {
   "cell_type": "markdown",
   "id": "3b85419c-e973-4c9a-ad4e-4bb888888081",
   "metadata": {},
   "source": [
    "## Data Clean Function ##\n",
    "- function that takes a csv file and transforms it - dropping all unnecessary columns, adding a subreddit column, then exporting the transformed dataframe as a csv file\n",
    "- parameters: \n",
    "  - **current_path:** location of csv file you are importing \n",
    "  - **subreddit:** the subreddit from where the posts are from\n",
    "  - **new_path:** location of csv file to be exported"
   ]
  },
  {
   "cell_type": "code",
   "execution_count": 28,
   "id": "aeb53a95-66d1-43aa-b412-30d1ca0f7472",
   "metadata": {},
   "outputs": [],
   "source": [
    "def data_clean(current_path, subreddit, new_path):\n",
    "    df = pd.read_csv(current_path)\n",
    "    df = df[['title']]\n",
    "    df['subreddit'] = subreddit\n",
    "    df.to_csv(new_path)"
   ]
  },
  {
   "cell_type": "markdown",
   "id": "67e6190a-dce3-4393-909d-d07578eef888",
   "metadata": {},
   "source": [
    "## Concatenate DF Function: ##\n",
    "- function that concatenates dataframes together and exports a csv file\n",
    "- parameters: \n",
    "    - **file_list:** list of files to be concatenated \n",
    "    - **file:** name of file to be exported"
   ]
  },
  {
   "cell_type": "code",
   "execution_count": 29,
   "id": "6886e48b-8108-4888-9d9e-5a06db0f705a",
   "metadata": {},
   "outputs": [],
   "source": [
    "def concat_data(file_list, file):\n",
    "    df = pd.read_csv(file_list[0])\n",
    "    for i in range(1,len(file_list)):\n",
    "        new_df = pd.read_csv(file_list[i])\n",
    "        df = pd.concat([df, new_df], axis=0)\n",
    "        \n",
    "    df.to_csv(file)"
   ]
  },
  {
   "cell_type": "markdown",
   "id": "fe9c598e-2004-454b-b5aa-f5a47843d134",
   "metadata": {},
   "source": [
    "## Run Functions for Chosen Subreddits: ##"
   ]
  },
  {
   "cell_type": "code",
   "execution_count": 30,
   "id": "c7abb8c9-98c3-46d0-87ca-c277c5b4797f",
   "metadata": {},
   "outputs": [],
   "source": [
    "sport_subs = ['nfl', 'nba', 'soccer', 'baseball', 'hockey']\n",
    "sports_clean_paths = []\n",
    "\n",
    "for sport in sport_subs:\n",
    "    outfile = './output/'+sport+'-clean.csv'\n",
    "    data_clean('./data/'+sport+'.csv', sport, outfile)\n",
    "    sports_clean_paths.append(outfile)\n",
    "\n",
    "concat_data(sports_clean_paths, './output/sports-clean.csv')"
   ]
  }
 ],
 "metadata": {
  "kernelspec": {
   "display_name": "Python 3 (ipykernel)",
   "language": "python",
   "name": "python3"
  },
  "language_info": {
   "codemirror_mode": {
    "name": "ipython",
    "version": 3
   },
   "file_extension": ".py",
   "mimetype": "text/x-python",
   "name": "python",
   "nbconvert_exporter": "python",
   "pygments_lexer": "ipython3",
   "version": "3.9.7"
  }
 },
 "nbformat": 4,
 "nbformat_minor": 5
}

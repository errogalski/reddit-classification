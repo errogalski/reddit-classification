{
 "cells": [
  {
   "cell_type": "markdown",
   "id": "c555cb47-5983-4c17-981d-27e2a9f2bcdd",
   "metadata": {},
   "source": [
    "## My Final Model ##"
   ]
  },
  {
   "cell_type": "code",
   "execution_count": 3,
   "id": "e7b4d68a-3e49-4c03-9ae5-b60504d3e48a",
   "metadata": {},
   "outputs": [],
   "source": [
    "#imports\n",
    "import pandas as pd\n",
    "import numpy as np\n",
    "import seaborn as sns\n",
    "import matplotlib.pyplot as plt\n",
    "\n",
    "from sklearn.feature_extraction.text import CountVectorizer\n",
    "from sklearn.model_selection import train_test_split\n",
    "from sklearn.linear_model import LogisticRegression\n",
    "from sklearn.metrics import ConfusionMatrixDisplay\n",
    "from sklearn.ensemble import VotingClassifier, RandomForestClassifier\n",
    "from sklearn.naive_bayes import MultinomialNB\n",
    "\n",
    "pd.options.display.max_colwidth = 400\n",
    "\n",
    "df = pd.read_csv('../outputs/sports-clean.csv', index_col='Unnamed: 0')\n",
    "df.drop(columns='Unnamed: 0.1', inplace=True)"
   ]
  },
  {
   "cell_type": "code",
   "execution_count": 4,
   "id": "5154cf06-436a-4953-b109-291a3f5b6ea8",
   "metadata": {},
   "outputs": [
    {
     "data": {
      "text/html": [
       "<div>\n",
       "<style scoped>\n",
       "    .dataframe tbody tr th:only-of-type {\n",
       "        vertical-align: middle;\n",
       "    }\n",
       "\n",
       "    .dataframe tbody tr th {\n",
       "        vertical-align: top;\n",
       "    }\n",
       "\n",
       "    .dataframe thead th {\n",
       "        text-align: right;\n",
       "    }\n",
       "</style>\n",
       "<table border=\"1\" class=\"dataframe\">\n",
       "  <thead>\n",
       "    <tr style=\"text-align: right;\">\n",
       "      <th></th>\n",
       "      <th>title</th>\n",
       "      <th>subreddit</th>\n",
       "    </tr>\n",
       "  </thead>\n",
       "  <tbody>\n",
       "    <tr>\n",
       "      <th>1495</th>\n",
       "      <td>[Halmiton Bulldogs] Mason McTavish continues his great playoff run and scores his 15th goal</td>\n",
       "      <td>hockey</td>\n",
       "    </tr>\n",
       "    <tr>\n",
       "      <th>1496</th>\n",
       "      <td>Patrik Laine All Goals 21-22</td>\n",
       "      <td>hockey</td>\n",
       "    </tr>\n",
       "    <tr>\n",
       "      <th>1497</th>\n",
       "      <td>Playoff Game Thread: Game 1 - Tampa Bay Lightning (0 - 0) at Colorado Avalanche (0 - 0) - 15 Jun 2022 - 06:00PM MDT</td>\n",
       "      <td>hockey</td>\n",
       "    </tr>\n",
       "    <tr>\n",
       "      <th>1498</th>\n",
       "      <td>When is puck drop tonight?</td>\n",
       "      <td>hockey</td>\n",
       "    </tr>\n",
       "    <tr>\n",
       "      <th>1499</th>\n",
       "      <td>[Johnston] In the event Evander Kane's grievance remains unresolved into the start of NHL free agency, it's not expected to prevent him from signing another contract for 2022-23 (and potentially beyond).</td>\n",
       "      <td>hockey</td>\n",
       "    </tr>\n",
       "  </tbody>\n",
       "</table>\n",
       "</div>"
      ],
      "text/plain": [
       "                                                                                                                                                                                                            title  \\\n",
       "1495                                                                                                                  [Halmiton Bulldogs] Mason McTavish continues his great playoff run and scores his 15th goal   \n",
       "1496                                                                                                                                                                                 Patrik Laine All Goals 21-22   \n",
       "1497                                                                                          Playoff Game Thread: Game 1 - Tampa Bay Lightning (0 - 0) at Colorado Avalanche (0 - 0) - 15 Jun 2022 - 06:00PM MDT   \n",
       "1498                                                                                                                                                                                   When is puck drop tonight?   \n",
       "1499  [Johnston] In the event Evander Kane's grievance remains unresolved into the start of NHL free agency, it's not expected to prevent him from signing another contract for 2022-23 (and potentially beyond).   \n",
       "\n",
       "     subreddit  \n",
       "1495    hockey  \n",
       "1496    hockey  \n",
       "1497    hockey  \n",
       "1498    hockey  \n",
       "1499    hockey  "
      ]
     },
     "execution_count": 4,
     "metadata": {},
     "output_type": "execute_result"
    }
   ],
   "source": [
    "df.tail()"
   ]
  },
  {
   "cell_type": "markdown",
   "id": "9ab689e6-7eda-420a-9b10-724d28fea01f",
   "metadata": {},
   "source": [
    "### Train/Test Split ###"
   ]
  },
  {
   "cell_type": "code",
   "execution_count": 5,
   "id": "fcf0def7-8ab3-4014-9352-ca942d5822e2",
   "metadata": {},
   "outputs": [],
   "source": [
    "X = df['title']\n",
    "y = df['subreddit']\n",
    "\n",
    "X_train, X_test, y_train, y_test = train_test_split(X, y, stratify=y)"
   ]
  },
  {
   "cell_type": "markdown",
   "id": "8abe0f04-1d8c-41f3-a17f-47804473f244",
   "metadata": {},
   "source": [
    "### Vectorize Text Using CountVectorizer ### "
   ]
  },
  {
   "cell_type": "code",
   "execution_count": 7,
   "id": "ec47757b-8d8f-4891-b884-8b5755a7159e",
   "metadata": {},
   "outputs": [],
   "source": [
    "cv = CountVectorizer(stop_words='english')\n",
    "X_train_cv = cv.fit_transform(X_train)\n",
    "X_test_cv = cv.transform(X_test)\n",
    "\n",
    "X_train_cv = pd.DataFrame(X_train_cv.A, columns=cv.get_feature_names_out())\n",
    "X_test_cv = pd.DataFrame(X_test_cv.A, columns=cv.get_feature_names_out())"
   ]
  },
  {
   "cell_type": "markdown",
   "id": "fd12a9f6-1485-4b8c-9abf-bc5bef76c45e",
   "metadata": {},
   "source": [
    "### Run Model ###"
   ]
  },
  {
   "cell_type": "code",
   "execution_count": 11,
   "id": "391786f2-c8ca-477a-a78a-185dc7965231",
   "metadata": {},
   "outputs": [
    {
     "data": {
      "text/plain": [
       "0.8629333333333333"
      ]
     },
     "execution_count": 11,
     "metadata": {},
     "output_type": "execute_result"
    }
   ],
   "source": [
    "vc1 = VotingClassifier([\n",
    "    ('logreg', LogisticRegression(max_iter=10_000)),\n",
    "    ('tree', RandomForestClassifier()),\n",
    "    ('nb', MultinomialNB())\n",
    "    ],\n",
    "    voting='soft',\n",
    "    weights=[.3,.3,.4],\n",
    "    n_jobs=-1\n",
    ")\n",
    "vc1.fit(X_train_cv, y_train)\n",
    "vc1.score(X_test_cv, y_test)"
   ]
  },
  {
   "cell_type": "markdown",
   "id": "f8089262-c998-410a-b63f-27e44e99d909",
   "metadata": {},
   "source": [
    "### 15 Most Common Words ###"
   ]
  },
  {
   "cell_type": "code",
   "execution_count": null,
   "id": "6393507d-ff74-4071-97ff-8683e137b6ee",
   "metadata": {},
   "outputs": [],
   "source": [
    "X_train_cv.sum().sort_values(ascending=False).head(15).plot(kind='barh');"
   ]
  }
 ],
 "metadata": {
  "kernelspec": {
   "display_name": "Python 3 (ipykernel)",
   "language": "python",
   "name": "python3"
  },
  "language_info": {
   "codemirror_mode": {
    "name": "ipython",
    "version": 3
   },
   "file_extension": ".py",
   "mimetype": "text/x-python",
   "name": "python",
   "nbconvert_exporter": "python",
   "pygments_lexer": "ipython3",
   "version": "3.9.7"
  }
 },
 "nbformat": 4,
 "nbformat_minor": 5
}

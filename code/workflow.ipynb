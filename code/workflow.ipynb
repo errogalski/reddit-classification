{
 "cells": [
  {
   "cell_type": "code",
   "execution_count": 38,
   "id": "78b3d108-7c09-43c8-8539-838900933c30",
   "metadata": {},
   "outputs": [],
   "source": [
    "#this notebook is where I played around with models -> looking for the best ones\n",
    "   # I reran this notebook Monday afternoon, so some numbers may be slightly\n",
    "              #        different than they were in my presentation!\n",
    "\n",
    "#imports\n",
    "import pandas as pd\n",
    "import numpy as np\n",
    "import seaborn as sns\n",
    "import matplotlib.pyplot as plt\n",
    "\n",
    "from sklearn.feature_extraction.text import CountVectorizer\n",
    "from sklearn.model_selection import train_test_split\n",
    "from sklearn.linear_model import LogisticRegression\n",
    "from sklearn.neighbors import KNeighborsClassifier\n",
    "from sklearn.metrics import ConfusionMatrixDisplay, f1_score\n",
    "from sklearn.ensemble import RandomForestClassifier\n",
    "from sklearn.ensemble import VotingClassifier\n",
    "from sklearn.naive_bayes import GaussianNB\n",
    "from sklearn.naive_bayes import MultinomialNB\n",
    "from sklearn.model_selection import RandomizedSearchCV, GridSearchCV\n",
    "\n",
    "pd.options.display.max_colwidth = 400"
   ]
  },
  {
   "cell_type": "code",
   "execution_count": 39,
   "id": "434e67b5-c880-431e-83d3-8ad323b4518b",
   "metadata": {},
   "outputs": [
    {
     "data": {
      "text/html": [
       "<div>\n",
       "<style scoped>\n",
       "    .dataframe tbody tr th:only-of-type {\n",
       "        vertical-align: middle;\n",
       "    }\n",
       "\n",
       "    .dataframe tbody tr th {\n",
       "        vertical-align: top;\n",
       "    }\n",
       "\n",
       "    .dataframe thead th {\n",
       "        text-align: right;\n",
       "    }\n",
       "</style>\n",
       "<table border=\"1\" class=\"dataframe\">\n",
       "  <thead>\n",
       "    <tr style=\"text-align: right;\">\n",
       "      <th></th>\n",
       "      <th>title</th>\n",
       "      <th>subreddit</th>\n",
       "    </tr>\n",
       "  </thead>\n",
       "  <tbody>\n",
       "    <tr>\n",
       "      <th>0</th>\n",
       "      <td>Make real money from home</td>\n",
       "      <td>nfl</td>\n",
       "    </tr>\n",
       "    <tr>\n",
       "      <th>1</th>\n",
       "      <td>Would Georgia beat the ‘08 lions?</td>\n",
       "      <td>nfl</td>\n",
       "    </tr>\n",
       "    <tr>\n",
       "      <th>2</th>\n",
       "      <td>NFL Draft Predictions</td>\n",
       "      <td>nfl</td>\n",
       "    </tr>\n",
       "    <tr>\n",
       "      <th>3</th>\n",
       "      <td>In your opinion, if Marty Schottenheimer had ended up with the Packers head coaching job in 2000, instead of Mike Sherman, what impact would this have had on the franchise in that decade?</td>\n",
       "      <td>nfl</td>\n",
       "    </tr>\n",
       "    <tr>\n",
       "      <th>4</th>\n",
       "      <td>What does this trade accomplish? I feel like I'm missing some grand Belichekian evil emperor scheme here</td>\n",
       "      <td>nfl</td>\n",
       "    </tr>\n",
       "  </tbody>\n",
       "</table>\n",
       "</div>"
      ],
      "text/plain": [
       "                                                                                                                                                                                         title  \\\n",
       "0                                                                                                                                                                    Make real money from home   \n",
       "1                                                                                                                                                            Would Georgia beat the ‘08 lions?   \n",
       "2                                                                                                                                                                        NFL Draft Predictions   \n",
       "3  In your opinion, if Marty Schottenheimer had ended up with the Packers head coaching job in 2000, instead of Mike Sherman, what impact would this have had on the franchise in that decade?   \n",
       "4                                                                                     What does this trade accomplish? I feel like I'm missing some grand Belichekian evil emperor scheme here   \n",
       "\n",
       "  subreddit  \n",
       "0       nfl  \n",
       "1       nfl  \n",
       "2       nfl  \n",
       "3       nfl  \n",
       "4       nfl  "
      ]
     },
     "execution_count": 39,
     "metadata": {},
     "output_type": "execute_result"
    }
   ],
   "source": [
    "df = pd.read_csv('./data/total-posts.csv')\n",
    "df.drop(columns='Unnamed: 0', inplace=True)\n",
    "df.head()"
   ]
  },
  {
   "cell_type": "code",
   "execution_count": 40,
   "id": "7b4d17ec-e710-46d7-9bfa-28760b4e1933",
   "metadata": {},
   "outputs": [],
   "source": [
    "#train/test split\n",
    "X = df['title']\n",
    "y = df['subreddit']\n",
    "\n",
    "X_train, X_test, y_train, y_test = train_test_split(X, y, stratify=y)\n",
    "\n",
    "#vectorize the text\n",
    "cv = CountVectorizer(stop_words='english')\n",
    "X_train_cv = cv.fit_transform(X_train)\n",
    "X_test_cv = cv.transform(X_test)"
   ]
  },
  {
   "cell_type": "code",
   "execution_count": 41,
   "id": "1041adcb-a6f0-4cb1-b0d8-668b11557be8",
   "metadata": {},
   "outputs": [],
   "source": [
    "X_train_cv = pd.DataFrame(X_train_cv.A, columns=cv.get_feature_names_out())\n",
    "X_test_cv = pd.DataFrame(X_test_cv.A, columns=cv.get_feature_names_out())"
   ]
  },
  {
   "cell_type": "code",
   "execution_count": 42,
   "id": "aa9eadd7-5240-4355-a7dd-1a281b8f35f8",
   "metadata": {},
   "outputs": [
    {
     "data": {
      "text/plain": [
       "((2247, 6021), (749, 6021))"
      ]
     },
     "execution_count": 42,
     "metadata": {},
     "output_type": "execute_result"
    }
   ],
   "source": [
    "X_train_cv.shape, X_test_cv.shape "
   ]
  },
  {
   "cell_type": "code",
   "execution_count": 43,
   "id": "4a961c4e-d7e5-43e6-9a07-8f8344b507ee",
   "metadata": {},
   "outputs": [
    {
     "data": {
      "text/plain": [
       "0.7222963951935915"
      ]
     },
     "execution_count": 43,
     "metadata": {},
     "output_type": "execute_result"
    }
   ],
   "source": [
    "#try a KNN model \n",
    "knn = KNeighborsClassifier()\n",
    "\n",
    "knn.fit(X_train_cv, y_train)\n",
    "knn.score(X_test_cv, y_test)"
   ]
  },
  {
   "cell_type": "code",
   "execution_count": 44,
   "id": "10a37087-6d30-4dea-99f9-45475d0428a1",
   "metadata": {},
   "outputs": [
    {
     "data": {
      "image/png": "[encoded data removed]",
      "text/plain": [
       "<Figure size 432x288 with 2 Axes>"
      ]
     },
     "metadata": {
      "needs_background": "light"
     },
     "output_type": "display_data"
    }
   ],
   "source": [
    "ConfusionMatrixDisplay.from_estimator(knn, X_test_cv, y_test, cmap='gist_earth');"
   ]
  },
  {
   "cell_type": "markdown",
   "id": "53deb887-7676-44ab-b59b-c574cc50e2d4",
   "metadata": {},
   "source": [
    "**Logistic Regression (using r/nfl and r/soccer data)** "
   ]
  },
  {
   "cell_type": "code",
   "execution_count": 45,
   "id": "5f068c53-bdca-4d91-8b96-1372e6db98d1",
   "metadata": {},
   "outputs": [
    {
     "data": {
      "text/plain": [
       "0.931909212283044"
      ]
     },
     "execution_count": 45,
     "metadata": {},
     "output_type": "execute_result"
    }
   ],
   "source": [
    "#I reran this model Monday afternoon and it is scoring slightly lower than it did in my presentation this morning\n",
    "    #0.93 instead of 0.94\n",
    "    \n",
    "logreg = LogisticRegression()\n",
    "\n",
    "logreg.fit(X_train_cv, y_train)\n",
    "logreg.score(X_test_cv, y_test)"
   ]
  },
  {
   "cell_type": "code",
   "execution_count": 46,
   "id": "3870ca0c-8c06-4814-8f32-78f3648486d8",
   "metadata": {},
   "outputs": [
    {
     "data": {
      "image/png": "[encoded data removed]",
      "text/plain": [
       "<Figure size 432x288 with 2 Axes>"
      ]
     },
     "metadata": {
      "needs_background": "light"
     },
     "output_type": "display_data"
    }
   ],
   "source": [
    "ConfusionMatrixDisplay.from_estimator(logreg, X_test_cv, y_test, cmap='gist_earth');"
   ]
  },
  {
   "cell_type": "markdown",
   "id": "e72fb83d-bbd0-4f52-9208-24d72a8f4a82",
   "metadata": {},
   "source": [
    "**Try adding other sports subreddits to my model to see if it still does well:**\n",
    "- Adding hockey, baseball, and basketball (nba)"
   ]
  },
  {
   "cell_type": "code",
   "execution_count": 53,
   "id": "daa3cfa5-4e55-4ed5-8734-eb834d05b3ff",
   "metadata": {},
   "outputs": [],
   "source": [
    "df2 = pd.read_csv('./outputs/sports-clean.csv', index_col='Unnamed: 0')\n",
    "#df2.drop(columns='Unnamed: 0.1', inplace=True)\n",
    "\n",
    "#train/test split\n",
    "X2 = df2['title']\n",
    "y2 = df2['subreddit']\n",
    "\n",
    "X_train, X_test, y_train, y_test = train_test_split(X2, y2, stratify=y2)\n",
    "\n",
    "#vectorize the text\n",
    "cv = CountVectorizer(stop_words='english')\n",
    "X_train_cv = cv.fit_transform(X_train)\n",
    "X_test_cv = cv.transform(X_test)\n",
    "\n",
    "X_train_cv = pd.DataFrame(X_train_cv.A, columns=cv.get_feature_names_out())\n",
    "X_test_cv = pd.DataFrame(X_test_cv.A, columns=cv.get_feature_names_out())"
   ]
  },
  {
   "cell_type": "code",
   "execution_count": 54,
   "id": "02122951-27a2-448b-8efa-4b312acda666",
   "metadata": {},
   "outputs": [
    {
     "data": {
      "text/plain": [
       "0.8596584845250801"
      ]
     },
     "execution_count": 54,
     "metadata": {},
     "output_type": "execute_result"
    }
   ],
   "source": [
    "#try a logistic regression model\n",
    "logreg = LogisticRegression()\n",
    "\n",
    "logreg.fit(X_train_cv, y_train)\n",
    "logreg.score(X_test_cv, y_test)"
   ]
  },
  {
   "cell_type": "code",
   "execution_count": 55,
   "id": "68a3acdf-3685-4a3b-be3b-696f07380332",
   "metadata": {},
   "outputs": [
    {
     "data": {
      "image/png": "[encoded data removed]",
      "text/plain": [
       "<Figure size 432x288 with 2 Axes>"
      ]
     },
     "metadata": {
      "needs_background": "light"
     },
     "output_type": "display_data"
    }
   ],
   "source": [
    "ConfusionMatrixDisplay.from_estimator(logreg, X_test_cv, y_test, cmap='ocean');"
   ]
  },
  {
   "cell_type": "code",
   "execution_count": 56,
   "id": "49257d78-c54a-48d7-a65d-7a8be165cd43",
   "metadata": {},
   "outputs": [
    {
     "data": {
      "text/plain": [
       "0.8404482390608324"
      ]
     },
     "execution_count": 56,
     "metadata": {},
     "output_type": "execute_result"
    }
   ],
   "source": [
    "#try a random forest\n",
    "\n",
    "forest = RandomForestClassifier()\n",
    "\n",
    "forest.fit(X_train_cv, y_train)\n",
    "forest.score(X_test_cv, y_test)"
   ]
  },
  {
   "cell_type": "code",
   "execution_count": 57,
   "id": "4b236b03-430e-4d40-a5cb-ca73a25030e0",
   "metadata": {},
   "outputs": [
    {
     "data": {
      "image/png": "[encoded data removed]",
      "text/plain": [
       "<Figure size 432x288 with 2 Axes>"
      ]
     },
     "metadata": {
      "needs_background": "light"
     },
     "output_type": "display_data"
    }
   ],
   "source": [
    "ConfusionMatrixDisplay.from_estimator(forest, X_test_cv, y_test, cmap='ocean');"
   ]
  },
  {
   "cell_type": "code",
   "execution_count": 58,
   "id": "66651f8d-f5e1-4b09-8932-8ea601b2e784",
   "metadata": {},
   "outputs": [
    {
     "data": {
      "text/plain": [
       "0.8628601921024547"
      ]
     },
     "execution_count": 58,
     "metadata": {},
     "output_type": "execute_result"
    }
   ],
   "source": [
    "#try an ensemble model\n",
    "\n",
    "vc1 = VotingClassifier([\n",
    "    ('logreg', LogisticRegression(max_iter=10_000)),\n",
    "    ('tree', RandomForestClassifier()),\n",
    "    ('nb', MultinomialNB())\n",
    "    ],\n",
    "    voting='hard',\n",
    "    weights=[.5,.4,.1],\n",
    "    n_jobs=-1\n",
    ")\n",
    "vc1.fit(X_train_cv, y_train)\n",
    "vc1.score(X_test_cv, y_test)"
   ]
  },
  {
   "cell_type": "code",
   "execution_count": 59,
   "id": "b49cf5fe-9dfe-4938-88e0-32affb0c8688",
   "metadata": {},
   "outputs": [
    {
     "name": "stderr",
     "output_type": "stream",
     "text": [
      "C:\\Users\\errog\\anaconda3\\lib\\site-packages\\sklearn\\model_selection\\_search.py:292: UserWarning: The total space of parameters 3 is smaller than n_iter=10. Running 3 iterations. For exhaustive searches, use GridSearchCV.\n",
      "  warnings.warn(\n"
     ]
    },
    {
     "data": {
      "text/plain": [
       "0.8681963713980789"
      ]
     },
     "execution_count": 59,
     "metadata": {},
     "output_type": "execute_result"
    }
   ],
   "source": [
    "#use Randomized Search on repeat to find better params \n",
    "    # I tweaked the params to search over several times (looked at hard and soft voting, \n",
    "    #       looked at a variety of weights)\n",
    "    \n",
    "params = {\n",
    "    'weights' : [[.1,.1,.8], [.1,.8,.1], [.8,.1,.1]]\n",
    "}\n",
    "\n",
    "rs= RandomizedSearchCV(VotingClassifier([\n",
    "    ('logreg', LogisticRegression(max_iter=10_000)),\n",
    "    ('tree', RandomForestClassifier()),\n",
    "    ('nb', MultinomialNB())\n",
    "    ], voting='soft'), params, n_jobs=-1)\n",
    "\n",
    "rs.fit(X_train_cv, y_train)\n",
    "rs.score(X_test_cv, y_test)"
   ]
  },
  {
   "cell_type": "code",
   "execution_count": 91,
   "id": "1124c0e5-14b6-4655-873d-ea31a0677777",
   "metadata": {},
   "outputs": [
    {
     "data": {
      "text/plain": [
       "{'weights': [0.1, 0.1, 0.8], 'voting': 'soft'}"
      ]
     },
     "execution_count": 91,
     "metadata": {},
     "output_type": "execute_result"
    }
   ],
   "source": [
    "rs.best_params_"
   ]
  },
  {
   "cell_type": "code",
   "execution_count": 92,
   "id": "cdb99271-4c93-4fb2-9ded-628d2b343fd4",
   "metadata": {},
   "outputs": [
    {
     "data": {
      "image/png": "[encoded data removed]",
      "text/plain": [
       "<Figure size 432x288 with 2 Axes>"
      ]
     },
     "metadata": {
      "needs_background": "light"
     },
     "output_type": "display_data"
    }
   ],
   "source": [
    "ConfusionMatrixDisplay.from_estimator(rs, X_test_cv, y_test, cmap='ocean');"
   ]
  },
  {
   "cell_type": "code",
   "execution_count": 60,
   "id": "3f6e8fe5-6c2a-43ea-b59a-5d3935e5e34b",
   "metadata": {},
   "outputs": [
    {
     "name": "stderr",
     "output_type": "stream",
     "text": [
      "C:\\Users\\errog\\anaconda3\\lib\\site-packages\\sklearn\\model_selection\\_search.py:292: UserWarning: The total space of parameters 4 is smaller than n_iter=10. Running 4 iterations. For exhaustive searches, use GridSearchCV.\n",
      "  warnings.warn(\n"
     ]
    },
    {
     "data": {
      "text/plain": [
       "0.8815368196371398"
      ]
     },
     "execution_count": 60,
     "metadata": {},
     "output_type": "execute_result"
    }
   ],
   "source": [
    "#tried a random search with only weights \n",
    "     # tweaked weights several times here until getting a score I was happy with\n",
    "    \n",
    "params = {\n",
    "    'weights' : [[.2,.2,.6], [.3,.3,.4], [.4,.3,.3], [5,.2,.3]]\n",
    "}\n",
    "\n",
    "gs= RandomizedSearchCV(VotingClassifier([\n",
    "    ('logreg', LogisticRegression(max_iter=10_000)),\n",
    "    ('tree', RandomForestClassifier()),\n",
    "    ('nb', MultinomialNB())\n",
    "    ], voting='soft'), params, n_jobs=-1)\n",
    "\n",
    "gs.fit(X_train_cv, y_train)\n",
    "gs.score(X_test_cv, y_test)"
   ]
  },
  {
   "cell_type": "code",
   "execution_count": 61,
   "id": "e87bdd7e-6b2e-469c-878b-395675762363",
   "metadata": {},
   "outputs": [
    {
     "data": {
      "text/plain": [
       "{'weights': [0.4, 0.3, 0.3]}"
      ]
     },
     "execution_count": 61,
     "metadata": {},
     "output_type": "execute_result"
    }
   ],
   "source": [
    "gs.best_params_"
   ]
  },
  {
   "cell_type": "code",
   "execution_count": 62,
   "id": "faabd8ad-aff4-4c99-a47c-4a2df8e64aae",
   "metadata": {},
   "outputs": [
    {
     "data": {
      "image/png": "[encoded data removed]",
      "text/plain": [
       "<Figure size 432x288 with 2 Axes>"
      ]
     },
     "metadata": {
      "needs_background": "light"
     },
     "output_type": "display_data"
    }
   ],
   "source": [
    "ConfusionMatrixDisplay.from_estimator(gs, X_test_cv, y_test, cmap='ocean');"
   ]
  },
  {
   "cell_type": "code",
   "execution_count": 63,
   "id": "b10e2857-2d1c-4f35-80cf-f66bc3f06d58",
   "metadata": {},
   "outputs": [
    {
     "data": {
      "text/html": [
       "<div>\n",
       "<style scoped>\n",
       "    .dataframe tbody tr th:only-of-type {\n",
       "        vertical-align: middle;\n",
       "    }\n",
       "\n",
       "    .dataframe tbody tr th {\n",
       "        vertical-align: top;\n",
       "    }\n",
       "\n",
       "    .dataframe thead th {\n",
       "        text-align: right;\n",
       "    }\n",
       "</style>\n",
       "<table border=\"1\" class=\"dataframe\">\n",
       "  <thead>\n",
       "    <tr style=\"text-align: right;\">\n",
       "      <th></th>\n",
       "      <th>00</th>\n",
       "      <th>000</th>\n",
       "      <th>0007</th>\n",
       "      <th>001</th>\n",
       "      <th>00pm</th>\n",
       "      <th>01</th>\n",
       "      <th>010</th>\n",
       "      <th>018</th>\n",
       "      <th>02</th>\n",
       "      <th>025</th>\n",
       "      <th>...</th>\n",
       "      <th>موقعنا</th>\n",
       "      <th>وبنتها</th>\n",
       "      <th>南安普顿</th>\n",
       "      <th>水晶宫</th>\n",
       "      <th>突击检查</th>\n",
       "      <th>英超</th>\n",
       "      <th>메시</th>\n",
       "      <th>음바페</th>\n",
       "      <th>true class</th>\n",
       "      <th>pred class</th>\n",
       "    </tr>\n",
       "  </thead>\n",
       "  <tbody>\n",
       "    <tr>\n",
       "      <th>11</th>\n",
       "      <td>0</td>\n",
       "      <td>0</td>\n",
       "      <td>0</td>\n",
       "      <td>0</td>\n",
       "      <td>0</td>\n",
       "      <td>0</td>\n",
       "      <td>0</td>\n",
       "      <td>0</td>\n",
       "      <td>0</td>\n",
       "      <td>0</td>\n",
       "      <td>...</td>\n",
       "      <td>0</td>\n",
       "      <td>0</td>\n",
       "      <td>0</td>\n",
       "      <td>0</td>\n",
       "      <td>0</td>\n",
       "      <td>0</td>\n",
       "      <td>0</td>\n",
       "      <td>0</td>\n",
       "      <td>nfl</td>\n",
       "      <td>hockey</td>\n",
       "    </tr>\n",
       "    <tr>\n",
       "      <th>22</th>\n",
       "      <td>0</td>\n",
       "      <td>0</td>\n",
       "      <td>0</td>\n",
       "      <td>0</td>\n",
       "      <td>0</td>\n",
       "      <td>0</td>\n",
       "      <td>0</td>\n",
       "      <td>0</td>\n",
       "      <td>0</td>\n",
       "      <td>0</td>\n",
       "      <td>...</td>\n",
       "      <td>0</td>\n",
       "      <td>0</td>\n",
       "      <td>0</td>\n",
       "      <td>0</td>\n",
       "      <td>0</td>\n",
       "      <td>0</td>\n",
       "      <td>0</td>\n",
       "      <td>0</td>\n",
       "      <td>hockey</td>\n",
       "      <td>baseball</td>\n",
       "    </tr>\n",
       "    <tr>\n",
       "      <th>31</th>\n",
       "      <td>0</td>\n",
       "      <td>0</td>\n",
       "      <td>0</td>\n",
       "      <td>0</td>\n",
       "      <td>0</td>\n",
       "      <td>0</td>\n",
       "      <td>0</td>\n",
       "      <td>0</td>\n",
       "      <td>0</td>\n",
       "      <td>0</td>\n",
       "      <td>...</td>\n",
       "      <td>0</td>\n",
       "      <td>0</td>\n",
       "      <td>0</td>\n",
       "      <td>0</td>\n",
       "      <td>0</td>\n",
       "      <td>0</td>\n",
       "      <td>0</td>\n",
       "      <td>0</td>\n",
       "      <td>nba</td>\n",
       "      <td>nfl</td>\n",
       "    </tr>\n",
       "    <tr>\n",
       "      <th>35</th>\n",
       "      <td>0</td>\n",
       "      <td>0</td>\n",
       "      <td>0</td>\n",
       "      <td>0</td>\n",
       "      <td>0</td>\n",
       "      <td>0</td>\n",
       "      <td>0</td>\n",
       "      <td>0</td>\n",
       "      <td>0</td>\n",
       "      <td>0</td>\n",
       "      <td>...</td>\n",
       "      <td>0</td>\n",
       "      <td>0</td>\n",
       "      <td>0</td>\n",
       "      <td>0</td>\n",
       "      <td>0</td>\n",
       "      <td>0</td>\n",
       "      <td>0</td>\n",
       "      <td>0</td>\n",
       "      <td>nfl</td>\n",
       "      <td>hockey</td>\n",
       "    </tr>\n",
       "    <tr>\n",
       "      <th>38</th>\n",
       "      <td>0</td>\n",
       "      <td>0</td>\n",
       "      <td>0</td>\n",
       "      <td>0</td>\n",
       "      <td>0</td>\n",
       "      <td>0</td>\n",
       "      <td>0</td>\n",
       "      <td>0</td>\n",
       "      <td>0</td>\n",
       "      <td>0</td>\n",
       "      <td>...</td>\n",
       "      <td>0</td>\n",
       "      <td>0</td>\n",
       "      <td>0</td>\n",
       "      <td>0</td>\n",
       "      <td>0</td>\n",
       "      <td>0</td>\n",
       "      <td>0</td>\n",
       "      <td>0</td>\n",
       "      <td>hockey</td>\n",
       "      <td>soccer</td>\n",
       "    </tr>\n",
       "    <tr>\n",
       "      <th>...</th>\n",
       "      <td>...</td>\n",
       "      <td>...</td>\n",
       "      <td>...</td>\n",
       "      <td>...</td>\n",
       "      <td>...</td>\n",
       "      <td>...</td>\n",
       "      <td>...</td>\n",
       "      <td>...</td>\n",
       "      <td>...</td>\n",
       "      <td>...</td>\n",
       "      <td>...</td>\n",
       "      <td>...</td>\n",
       "      <td>...</td>\n",
       "      <td>...</td>\n",
       "      <td>...</td>\n",
       "      <td>...</td>\n",
       "      <td>...</td>\n",
       "      <td>...</td>\n",
       "      <td>...</td>\n",
       "      <td>...</td>\n",
       "      <td>...</td>\n",
       "    </tr>\n",
       "    <tr>\n",
       "      <th>1845</th>\n",
       "      <td>0</td>\n",
       "      <td>0</td>\n",
       "      <td>0</td>\n",
       "      <td>0</td>\n",
       "      <td>0</td>\n",
       "      <td>0</td>\n",
       "      <td>0</td>\n",
       "      <td>0</td>\n",
       "      <td>0</td>\n",
       "      <td>0</td>\n",
       "      <td>...</td>\n",
       "      <td>0</td>\n",
       "      <td>0</td>\n",
       "      <td>0</td>\n",
       "      <td>0</td>\n",
       "      <td>0</td>\n",
       "      <td>0</td>\n",
       "      <td>0</td>\n",
       "      <td>0</td>\n",
       "      <td>hockey</td>\n",
       "      <td>nba</td>\n",
       "    </tr>\n",
       "    <tr>\n",
       "      <th>1859</th>\n",
       "      <td>0</td>\n",
       "      <td>0</td>\n",
       "      <td>0</td>\n",
       "      <td>0</td>\n",
       "      <td>0</td>\n",
       "      <td>0</td>\n",
       "      <td>0</td>\n",
       "      <td>0</td>\n",
       "      <td>0</td>\n",
       "      <td>0</td>\n",
       "      <td>...</td>\n",
       "      <td>0</td>\n",
       "      <td>0</td>\n",
       "      <td>0</td>\n",
       "      <td>0</td>\n",
       "      <td>0</td>\n",
       "      <td>0</td>\n",
       "      <td>0</td>\n",
       "      <td>0</td>\n",
       "      <td>nfl</td>\n",
       "      <td>baseball</td>\n",
       "    </tr>\n",
       "    <tr>\n",
       "      <th>1863</th>\n",
       "      <td>0</td>\n",
       "      <td>0</td>\n",
       "      <td>0</td>\n",
       "      <td>0</td>\n",
       "      <td>0</td>\n",
       "      <td>0</td>\n",
       "      <td>0</td>\n",
       "      <td>0</td>\n",
       "      <td>0</td>\n",
       "      <td>0</td>\n",
       "      <td>...</td>\n",
       "      <td>0</td>\n",
       "      <td>0</td>\n",
       "      <td>0</td>\n",
       "      <td>0</td>\n",
       "      <td>0</td>\n",
       "      <td>0</td>\n",
       "      <td>0</td>\n",
       "      <td>0</td>\n",
       "      <td>soccer</td>\n",
       "      <td>hockey</td>\n",
       "    </tr>\n",
       "    <tr>\n",
       "      <th>1866</th>\n",
       "      <td>0</td>\n",
       "      <td>0</td>\n",
       "      <td>0</td>\n",
       "      <td>0</td>\n",
       "      <td>0</td>\n",
       "      <td>0</td>\n",
       "      <td>0</td>\n",
       "      <td>0</td>\n",
       "      <td>0</td>\n",
       "      <td>0</td>\n",
       "      <td>...</td>\n",
       "      <td>0</td>\n",
       "      <td>0</td>\n",
       "      <td>0</td>\n",
       "      <td>0</td>\n",
       "      <td>0</td>\n",
       "      <td>0</td>\n",
       "      <td>0</td>\n",
       "      <td>0</td>\n",
       "      <td>nfl</td>\n",
       "      <td>nba</td>\n",
       "    </tr>\n",
       "    <tr>\n",
       "      <th>1867</th>\n",
       "      <td>0</td>\n",
       "      <td>0</td>\n",
       "      <td>0</td>\n",
       "      <td>0</td>\n",
       "      <td>0</td>\n",
       "      <td>0</td>\n",
       "      <td>0</td>\n",
       "      <td>0</td>\n",
       "      <td>0</td>\n",
       "      <td>0</td>\n",
       "      <td>...</td>\n",
       "      <td>0</td>\n",
       "      <td>0</td>\n",
       "      <td>0</td>\n",
       "      <td>0</td>\n",
       "      <td>0</td>\n",
       "      <td>0</td>\n",
       "      <td>0</td>\n",
       "      <td>0</td>\n",
       "      <td>hockey</td>\n",
       "      <td>nba</td>\n",
       "    </tr>\n",
       "  </tbody>\n",
       "</table>\n",
       "<p>222 rows × 10617 columns</p>\n",
       "</div>"
      ],
      "text/plain": [
       "      00  000  0007  001  00pm  01  010  018  02  025  ...  موقعنا  وبنتها  \\\n",
       "11     0    0     0    0     0   0    0    0   0    0  ...       0       0   \n",
       "22     0    0     0    0     0   0    0    0   0    0  ...       0       0   \n",
       "31     0    0     0    0     0   0    0    0   0    0  ...       0       0   \n",
       "35     0    0     0    0     0   0    0    0   0    0  ...       0       0   \n",
       "38     0    0     0    0     0   0    0    0   0    0  ...       0       0   \n",
       "...   ..  ...   ...  ...   ...  ..  ...  ...  ..  ...  ...     ...     ...   \n",
       "1845   0    0     0    0     0   0    0    0   0    0  ...       0       0   \n",
       "1859   0    0     0    0     0   0    0    0   0    0  ...       0       0   \n",
       "1863   0    0     0    0     0   0    0    0   0    0  ...       0       0   \n",
       "1866   0    0     0    0     0   0    0    0   0    0  ...       0       0   \n",
       "1867   0    0     0    0     0   0    0    0   0    0  ...       0       0   \n",
       "\n",
       "      南安普顿  水晶宫  突击检查  英超  메시  음바페  true class  pred class  \n",
       "11       0    0     0   0   0    0         nfl      hockey  \n",
       "22       0    0     0   0   0    0      hockey    baseball  \n",
       "31       0    0     0   0   0    0         nba         nfl  \n",
       "35       0    0     0   0   0    0         nfl      hockey  \n",
       "38       0    0     0   0   0    0      hockey      soccer  \n",
       "...    ...  ...   ...  ..  ..  ...         ...         ...  \n",
       "1845     0    0     0   0   0    0      hockey         nba  \n",
       "1859     0    0     0   0   0    0         nfl    baseball  \n",
       "1863     0    0     0   0   0    0      soccer      hockey  \n",
       "1866     0    0     0   0   0    0         nfl         nba  \n",
       "1867     0    0     0   0   0    0      hockey         nba  \n",
       "\n",
       "[222 rows x 10617 columns]"
      ]
     },
     "execution_count": 63,
     "metadata": {},
     "output_type": "execute_result"
    }
   ],
   "source": [
    "#look at misclassified samples\n",
    "test_preds = gs.predict(X_test_cv)\n",
    "\n",
    "test_arr = y_test.to_numpy()\n",
    "misclass = pd.DataFrame({'true class': test_arr, 'pred class': test_preds})\n",
    "misclass = pd.concat([X_test_cv, misclass], axis=1)\n",
    "#places where model is classifying model wrong\n",
    "misclass = misclass[misclass['true class'] != misclass['pred class']]\n",
    "misclass"
   ]
  },
  {
   "cell_type": "code",
   "execution_count": 65,
   "id": "167631e4-cd6f-4996-8231-bd7999c1efe0",
   "metadata": {},
   "outputs": [
    {
     "data": {
      "text/plain": [
       "team        16\n",
       "game        16\n",
       "season      14\n",
       "games       11\n",
       "player      10\n",
       "players     10\n",
       "league       8\n",
       "amp          8\n",
       "year         8\n",
       "ve           6\n",
       "better       6\n",
       "win          6\n",
       "2022         6\n",
       "playoffs     6\n",
       "teams        5\n",
       "years        5\n",
       "pick         5\n",
       "know         5\n",
       "don          5\n",
       "far          5\n",
       "goal         5\n",
       "does         5\n",
       "good         5\n",
       "think        5\n",
       "second       5\n",
       "dtype: int64"
      ]
     },
     "execution_count": 65,
     "metadata": {},
     "output_type": "execute_result"
    }
   ],
   "source": [
    "misclass = misclass.drop(columns=['true class', 'pred class'])\n",
    "misclass.sum().sort_values(ascending=False).head(25)"
   ]
  },
  {
   "cell_type": "code",
   "execution_count": 66,
   "id": "7dadf7fa-5b31-4f6d-b60c-cf1a297749d6",
   "metadata": {},
   "outputs": [
    {
     "data": {
      "image/png": "[encoded data removed]",
      "text/plain": [
       "<Figure size 432x288 with 1 Axes>"
      ]
     },
     "metadata": {
      "needs_background": "light"
     },
     "output_type": "display_data"
    }
   ],
   "source": [
    "misclass.sum().sort_values(ascending=False).head(15).plot(kind='barh');"
   ]
  },
  {
   "cell_type": "markdown",
   "id": "7b5e1d43-82b3-4a7a-8757-8cf0f582efcd",
   "metadata": {},
   "source": [
    "**Analysis of Misclassified Posts:** \n",
    "-  Some posts were ones that were using very general sports terminology - words like game, player, team, etc - which made it really hard on the model. Even as a human, looking at these words, I can’t tell where they are from.\n",
    "- Some posts that were misidentified are mostly numbers and abbreviations (ex: 7IP, 0R, 2H) -> model might not know what to do with this since it isn't really language  \n",
    "- Feeding the model more information could help - (adding comments perhaps) "
   ]
  }
 ],
 "metadata": {
  "kernelspec": {
   "display_name": "Python 3 (ipykernel)",
   "language": "python",
   "name": "python3"
  },
  "language_info": {
   "codemirror_mode": {
    "name": "ipython",
    "version": 3
   },
   "file_extension": ".py",
   "mimetype": "text/x-python",
   "name": "python",
   "nbconvert_exporter": "python",
   "pygments_lexer": "ipython3",
   "version": "3.9.7"
  }
 },
 "nbformat": 4,
 "nbformat_minor": 5
}

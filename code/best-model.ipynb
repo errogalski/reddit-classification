{
 "cells": [
  {
   "cell_type": "code",
   "execution_count": 16,
   "id": "66fb6d78-ba79-40f7-81d2-ae529415428f",
   "metadata": {},
   "outputs": [],
   "source": [
    "# threw my best model in its own Jupyter notebook for readability\n",
    "\n",
    "#imports\n",
    "import pandas as pd\n",
    "import numpy as np\n",
    "import seaborn as sns\n",
    "import matplotlib.pyplot as plt\n",
    "\n",
    "from sklearn.feature_extraction.text import CountVectorizer\n",
    "from sklearn.model_selection import train_test_split\n",
    "from sklearn.linear_model import LogisticRegression\n",
    "from sklearn.metrics import ConfusionMatrixDisplay\n",
    "from sklearn.ensemble import VotingClassifier, RandomForestClassifier\n",
    "from sklearn.naive_bayes import MultinomialNB\n",
    "\n",
    "pd.options.display.max_colwidth = 400\n",
    "\n",
    "df = pd.read_csv('./outputs/sports-clean.csv', index_col='Unnamed: 0')\n",
    "df.drop(columns='Unnamed: 0.1', inplace=True)"
   ]
  },
  {
   "cell_type": "code",
   "execution_count": 9,
   "id": "e15ab9c8-37ca-4205-8be5-903d08d375ef",
   "metadata": {},
   "outputs": [
    {
     "data": {
      "text/html": [
       "<div>\n",
       "<style scoped>\n",
       "    .dataframe tbody tr th:only-of-type {\n",
       "        vertical-align: middle;\n",
       "    }\n",
       "\n",
       "    .dataframe tbody tr th {\n",
       "        vertical-align: top;\n",
       "    }\n",
       "\n",
       "    .dataframe thead th {\n",
       "        text-align: right;\n",
       "    }\n",
       "</style>\n",
       "<table border=\"1\" class=\"dataframe\">\n",
       "  <thead>\n",
       "    <tr style=\"text-align: right;\">\n",
       "      <th></th>\n",
       "      <th>title</th>\n",
       "      <th>subreddit</th>\n",
       "    </tr>\n",
       "  </thead>\n",
       "  <tbody>\n",
       "    <tr>\n",
       "      <th>1495</th>\n",
       "      <td>2023 Reverse Retro Concept Series - Boston Bruins</td>\n",
       "      <td>hockey</td>\n",
       "    </tr>\n",
       "    <tr>\n",
       "      <th>1496</th>\n",
       "      <td>Fun Fact about Boston Fans</td>\n",
       "      <td>hockey</td>\n",
       "    </tr>\n",
       "    <tr>\n",
       "      <th>1497</th>\n",
       "      <td>Tricky Ricky Rakell does it himself and scores a beut</td>\n",
       "      <td>hockey</td>\n",
       "    </tr>\n",
       "    <tr>\n",
       "      <th>1498</th>\n",
       "      <td>[BUF 3 - NYI 1] Tage Thompson hammers the one timer home for his 37th goal of the season</td>\n",
       "      <td>hockey</td>\n",
       "    </tr>\n",
       "    <tr>\n",
       "      <th>1499</th>\n",
       "      <td>[PIT v DET] Matheson to Rakell who goes 5 hole, 4/23/2022</td>\n",
       "      <td>hockey</td>\n",
       "    </tr>\n",
       "  </tbody>\n",
       "</table>\n",
       "</div>"
      ],
      "text/plain": [
       "                                                                                         title  \\\n",
       "1495                                         2023 Reverse Retro Concept Series - Boston Bruins   \n",
       "1496                                                                Fun Fact about Boston Fans   \n",
       "1497                                     Tricky Ricky Rakell does it himself and scores a beut   \n",
       "1498  [BUF 3 - NYI 1] Tage Thompson hammers the one timer home for his 37th goal of the season   \n",
       "1499                                 [PIT v DET] Matheson to Rakell who goes 5 hole, 4/23/2022   \n",
       "\n",
       "     subreddit  \n",
       "1495    hockey  \n",
       "1496    hockey  \n",
       "1497    hockey  \n",
       "1498    hockey  \n",
       "1499    hockey  "
      ]
     },
     "execution_count": 9,
     "metadata": {},
     "output_type": "execute_result"
    }
   ],
   "source": [
    "df.tail()"
   ]
  },
  {
   "cell_type": "code",
   "execution_count": 18,
   "id": "7d3656f3-b474-407a-962c-da4f540593cd",
   "metadata": {},
   "outputs": [
    {
     "data": {
      "text/plain": [
       "0.8820704375667022"
      ]
     },
     "execution_count": 18,
     "metadata": {},
     "output_type": "execute_result"
    }
   ],
   "source": [
    "#train/test split\n",
    "X = df['title']\n",
    "y = df['subreddit']\n",
    "\n",
    "X_train, X_test, y_train, y_test = train_test_split(X, y, stratify=y)\n",
    "\n",
    "#vectorize the text\n",
    "cv = CountVectorizer(stop_words='english')\n",
    "X_train_cv = cv.fit_transform(X_train)\n",
    "X_test_cv = cv.transform(X_test)\n",
    "\n",
    "X_train_cv = pd.DataFrame(X_train_cv.A, columns=cv.get_feature_names_out())\n",
    "X_test_cv = pd.DataFrame(X_test_cv.A, columns=cv.get_feature_names_out())\n",
    "\n",
    "vc1 = VotingClassifier([\n",
    "    ('logreg', LogisticRegression(max_iter=10_000)),\n",
    "    ('tree', RandomForestClassifier()),\n",
    "    ('nb', MultinomialNB())\n",
    "    ],\n",
    "    voting='soft',\n",
    "    weights=[.3,.3,.4],\n",
    "    n_jobs=-1\n",
    ")\n",
    "vc1.fit(X_train_cv, y_train)\n",
    "vc1.score(X_test_cv, y_test)"
   ]
  },
  {
   "cell_type": "code",
   "execution_count": 41,
   "id": "61007311-6545-4485-b68e-1550832c671d",
   "metadata": {},
   "outputs": [
    {
     "data": {
      "image/png": "[encoded data removed]",
      "text/plain": [
       "<Figure size 432x288 with 1 Axes>"
      ]
     },
     "metadata": {
      "needs_background": "light"
     },
     "output_type": "display_data"
    }
   ],
   "source": [
    "X_train_cv.sum().sort_values(ascending=False).head(15).plot(kind='barh');"
   ]
  },
  {
   "cell_type": "code",
   "execution_count": null,
   "id": "b8f4c769-8354-44c8-86cf-e030ed6b7a36",
   "metadata": {},
   "outputs": [],
   "source": []
  }
 ],
 "metadata": {
  "kernelspec": {
   "display_name": "Python 3 (ipykernel)",
   "language": "python",
   "name": "python3"
  },
  "language_info": {
   "codemirror_mode": {
    "name": "ipython",
    "version": 3
   },
   "file_extension": ".py",
   "mimetype": "text/x-python",
   "name": "python",
   "nbconvert_exporter": "python",
   "pygments_lexer": "ipython3",
   "version": "3.9.7"
  }
 },
 "nbformat": 4,
 "nbformat_minor": 5
}
